{
  "nbformat": 4,
  "nbformat_minor": 0,
  "metadata": {
    "colab": {
      "provenance": [],
      "authorship_tag": "ABX9TyORcBV1aT6IaRSzt3zAal4H",
      "include_colab_link": true
    },
    "kernelspec": {
      "name": "python3",
      "display_name": "Python 3"
    },
    "language_info": {
      "name": "python"
    }
  },
  "cells": [
    {
      "cell_type": "markdown",
      "metadata": {
        "id": "view-in-github",
        "colab_type": "text"
      },
      "source": [
        "<a href=\"https://colab.research.google.com/github/BramanTyamahedrawan/Kecerdasan-Buatan/blob/master/04_Braman_Tyamahendrawan_Perbedaan_Reinforcement_Learning_dan_Deep_Learning.ipynb\" target=\"_parent\"><img src=\"https://colab.research.google.com/assets/colab-badge.svg\" alt=\"Open In Colab\"/></a>"
      ]
    },
    {
      "cell_type": "markdown",
      "source": [
        "\n",
        "\n",
        "# **PERBEDAAN REINFORCEMENT LEARNING DAN DEEP LEARNING SERTA IMPLEMENTASINYA**\n",
        "\n",
        "\n",
        "---\n",
        "\n",
        "\n"
      ],
      "metadata": {
        "id": "Tm8FZafp_H1_"
      }
    },
    {
      "cell_type": "markdown",
      "source": [
        "NAMA    : BRAMAN TYAMAHENDRAWAN\n",
        "\n",
        "---\n",
        "KELAS   : 2C\n",
        "\n",
        "---\n",
        "ABSEN   : 04\n",
        "\n",
        "---\n",
        "NIM     : 2141720097\n",
        "\n",
        "---\n",
        "*link Github :*\n"
      ],
      "metadata": {
        "id": "-V28_BFs_-Q2"
      }
    },
    {
      "cell_type": "markdown",
      "source": [
        "# 1. Reinforcement Learning"
      ],
      "metadata": {
        "id": "BRYo81hBAfVI"
      }
    },
    {
      "cell_type": "markdown",
      "source": [
        "PENGERTIAN REINFORCEMENT LEARNING\n",
        "\n",
        "---\n",
        "\n",
        "Reinforcement Learning berbeda berbeda dengan supervised maupun unsupervised learning. Algoritma ini dimaksudkan untuk membuat komputer dapat belajar sendiri dari lingkungan (environtment) melalui sebuah agent. Jadi komputer akan melakukan pencarian sendiri (self discovery) dengan cara berinteraksi dengan environment.\n",
        "\n",
        "\n",
        "Reinforcement-learning didefinisikan sebagai metode machine learning yang berkaitan dengan bagaimana agent perangkat lunak harus mengambil action di dalam environment. RL adalah bagian dari metode deep learning yang membantu Anda memaksimalkan sebagian dari reward kumulatif."
      ],
      "metadata": {
        "id": "FOFbBmFoBTzb"
      }
    },
    {
      "cell_type": "markdown",
      "source": [
        "KARAKTERISTIK REINFORCEMENT LEARNING\n",
        "\n",
        "---\n",
        "*   Tidak ada supervisor, hanya ada bilangan real atau reward signal\n",
        "*   Pengambilan keputusan berurutan\n",
        "*   Waktu memainkan peran penting dalam masalah reinforcement\n",
        "*   Feedback balik selalu tertunda, tidak seketika\n",
        "*   Action dari sebuah agent menentukan data selanjutnya yang diterimanya"
      ],
      "metadata": {
        "id": "SqfdV2vxBkZR"
      }
    },
    {
      "cell_type": "markdown",
      "source": [
        "KAPAN MENGGUNAKAN REINFORCEMENT LEARNING\n",
        "\n",
        "---\n",
        "*   Action dari sebuah agent menentukan data selanjutnya yang diterimanya\n",
        "*   Membantu menemukan action mana yang menghasilkan reward tertinggi selama periode yang lebih lama.\n",
        "*   RL juga menyediakan fungsi reward bagi agent pembelajaran.\n",
        "*   RL memungkinkan untuk mengetahui metode terbaik untuk mendapatkan reward besar\n"
      ],
      "metadata": {
        "id": "MAHgOmphCFrt"
      }
    },
    {
      "cell_type": "code",
      "source": [
        "import gym\n",
        "\n",
        "env = gym.make(\"MountainCar-v0\")\n",
        "state = env.reset()\n",
        "\n",
        "done = False\n",
        "while not done:\n",
        "    action = 2\n",
        "    new_state, reward, done, _ = env.step(action)\n",
        "    print(reward, new_state)"
      ],
      "metadata": {
        "colab": {
          "base_uri": "https://localhost:8080/"
        },
        "id": "2IBK0uHIJkOA",
        "outputId": "e7ed12b8-8bd0-4bab-abcb-2e4c86670ef8"
      },
      "execution_count": 8,
      "outputs": [
        {
          "output_type": "stream",
          "name": "stdout",
          "text": [
            "-1.0 [-0.53361017  0.00108319]\n",
            "-1.0 [-0.5314519   0.00215827]\n",
            "-1.0 [-0.5282347   0.00321716]\n",
            "-1.0 [-0.5239828   0.00425193]\n",
            "-1.0 [-0.518728    0.00525481]\n",
            "-1.0 [-0.5125097   0.00621828]\n",
            "-1.0 [-0.5053746   0.00713513]\n",
            "-1.0 [-0.49737605  0.00799851]\n",
            "-1.0 [-0.48857403  0.00880205]\n",
            "-1.0 [-0.4790342   0.00953984]\n",
            "-1.0 [-0.46882758  0.0102066 ]\n",
            "-1.0 [-0.4580299   0.01079767]\n",
            "-1.0 [-0.44672084  0.01130906]\n",
            "-1.0 [-0.43498325  0.01173758]\n",
            "-1.0 [-0.4229025   0.01208076]\n",
            "-1.0 [-0.41056553  0.01233697]\n",
            "-1.0 [-0.39806014  0.01250538]\n",
            "-1.0 [-0.3854742   0.01258594]\n",
            "-1.0 [-0.3728948  0.0125794]\n",
            "-1.0 [-0.36040756  0.01248723]\n",
            "-1.0 [-0.34809595  0.01231161]\n",
            "-1.0 [-0.33604065  0.01205532]\n",
            "-1.0 [-0.32431895  0.01172169]\n",
            "-1.0 [-0.3130044   0.01131454]\n",
            "-1.0 [-0.30216634  0.01083808]\n",
            "-1.0 [-0.29186952  0.01029682]\n",
            "-1.0 [-0.28217402  0.00969549]\n",
            "-1.0 [-0.273135    0.00903901]\n",
            "-1.0 [-0.26480263  0.00833237]\n",
            "-1.0 [-0.25722203  0.0075806 ]\n",
            "-1.0 [-0.2504333   0.00678873]\n",
            "-1.0 [-0.24447158  0.00596173]\n",
            "-1.0 [-0.23936708  0.00510449]\n",
            "-1.0 [-0.23514523  0.00422185]\n",
            "-1.0 [-0.2318267   0.00331853]\n",
            "-1.0 [-0.22942753  0.00239916]\n",
            "-1.0 [-0.22795922  0.00146832]\n",
            "-1.0 [-0.22742872  0.0005305 ]\n",
            "-1.0 [-0.22783856 -0.00040984]\n",
            "-1.0 [-0.22918679 -0.00134823]\n",
            "-1.0 [-0.23146701 -0.00228022]\n",
            "-1.0 [-0.23466831 -0.00320131]\n",
            "-1.0 [-0.23877527 -0.00410695]\n",
            "-1.0 [-0.24376778 -0.00499251]\n",
            "-1.0 [-0.24962106 -0.00585327]\n",
            "-1.0 [-0.2563055  -0.00668443]\n",
            "-1.0 [-0.26378658 -0.00748109]\n",
            "-1.0 [-0.27202487 -0.00823829]\n",
            "-1.0 [-0.28097588 -0.008951  ]\n",
            "-1.0 [-0.29059008 -0.0096142 ]\n",
            "-1.0 [-0.30081296 -0.01022289]\n",
            "-1.0 [-0.3115851  -0.01077213]\n",
            "-1.0 [-0.32284227 -0.01125717]\n",
            "-1.0 [-0.33451572 -0.01167345]\n",
            "-1.0 [-0.34653246 -0.01201674]\n",
            "-1.0 [-0.3588156  -0.01228316]\n",
            "-1.0 [-0.37128493 -0.0124693 ]\n",
            "-1.0 [-0.38385725 -0.01257232]\n",
            "-1.0 [-0.39644718 -0.01258995]\n",
            "-1.0 [-0.40896782 -0.01252063]\n",
            "-1.0 [-0.42133135 -0.01236351]\n",
            "-1.0 [-0.43344986 -0.01211854]\n",
            "-1.0 [-0.44523633 -0.01178645]\n",
            "-1.0 [-0.4566051  -0.01136877]\n",
            "-1.0 [-0.46747294 -0.01086784]\n",
            "-1.0 [-0.47775975 -0.0102868 ]\n",
            "-1.0 [-0.48738927 -0.00962951]\n",
            "-1.0 [-0.4962898  -0.00890055]\n",
            "-1.0 [-0.50439495 -0.00810514]\n",
            "-1.0 [-0.511644   -0.00724909]\n",
            "-1.0 [-0.5179828  -0.00633873]\n",
            "-1.0 [-0.5233636  -0.00538085]\n",
            "-1.0 [-0.5277462  -0.00438261]\n",
            "-1.0 [-0.5310977  -0.00335151]\n",
            "-1.0 [-0.53339297 -0.00229527]\n",
            "-1.0 [-0.5346148  -0.00122182]\n",
            "-1.0 [-5.3475404e-01 -1.3921705e-04]\n",
            "-1.0 [-0.5338096   0.00094443]\n",
            "-1.0 [-0.5317886  0.002021 ]\n",
            "-1.0 [-0.5287062   0.00308242]\n",
            "-1.0 [-0.5245855   0.00412072]\n",
            "-1.0 [-0.51945734  0.00512812]\n",
            "-1.0 [-0.51336026  0.00609706]\n",
            "-1.0 [-0.50633997  0.00702029]\n",
            "-1.0 [-0.4984491  0.0078909]\n",
            "-1.0 [-0.48974663  0.00870246]\n",
            "-1.0 [-0.48029763  0.009449  ]\n",
            "-1.0 [-0.47017246  0.01012516]\n",
            "-1.0 [-0.45944628  0.01072617]\n",
            "-1.0 [-0.4481983  0.011248 ]\n",
            "-1.0 [-0.43651098  0.0116873 ]\n",
            "-1.0 [-0.42446944  0.01204155]\n",
            "-1.0 [-0.41216046  0.01230899]\n",
            "-1.0 [-0.39967176  0.01248868]\n",
            "-1.0 [-0.38709128  0.0125805 ]\n",
            "-1.0 [-0.3745062   0.01258507]\n",
            "-1.0 [-0.36200243  0.01250379]\n",
            "-1.0 [-0.3496637   0.01233873]\n",
            "-1.0 [-0.33757108  0.01209262]\n",
            "-1.0 [-0.32580236  0.01176871]\n",
            "-1.0 [-0.31443158  0.01137078]\n",
            "-1.0 [-0.3035286   0.01090297]\n",
            "-1.0 [-0.29315886  0.01036976]\n",
            "-1.0 [-0.28338298  0.00977587]\n",
            "-1.0 [-0.2742568  0.0091262]\n",
            "-1.0 [-0.26583108  0.00842571]\n",
            "-1.0 [-0.25815162  0.00767946]\n",
            "-1.0 [-0.25125918  0.00689245]\n",
            "-1.0 [-0.24518949  0.00606968]\n",
            "-1.0 [-0.23997344  0.00521605]\n",
            "-1.0 [-0.23563702  0.00433641]\n",
            "-1.0 [-0.23220155  0.00343548]\n",
            "-1.0 [-0.22968364  0.00251792]\n",
            "-1.0 [-0.22809534  0.00158829]\n",
            "-1.0 [-0.22744422  0.00065112]\n",
            "-1.0 [-0.22773336 -0.00028914]\n",
            "-1.0 [-0.22896141 -0.00122804]\n",
            "-1.0 [-0.2311225 -0.0021611]\n",
            "-1.0 [-0.23420635 -0.00308384]\n",
            "-1.0 [-0.23819807 -0.00399172]\n",
            "-1.0 [-0.24307819 -0.00488012]\n",
            "-1.0 [-0.24882253 -0.00574433]\n",
            "-1.0 [-0.2554021  -0.00657956]\n",
            "-1.0 [-0.26278302 -0.00738093]\n",
            "-1.0 [-0.2709265  -0.00814347]\n",
            "-1.0 [-0.27978867 -0.00886218]\n",
            "-1.0 [-0.2893207  -0.00953202]\n",
            "-1.0 [-0.29946867 -0.01014797]\n",
            "-1.0 [-0.31017378 -0.01070512]\n",
            "-1.0 [-0.32137245 -0.01119866]\n",
            "-1.0 [-0.33299646 -0.01162401]\n",
            "-1.0 [-0.34497336 -0.0119769 ]\n",
            "-1.0 [-0.35722673 -0.01225338]\n",
            "-1.0 [-0.36967674 -0.01245001]\n",
            "-1.0 [-0.38224056 -0.01256383]\n",
            "-1.0 [-0.3948331  -0.01259253]\n",
            "-1.0 [-0.40736753 -0.01253443]\n",
            "-1.0 [-0.41975614 -0.0123886 ]\n",
            "-1.0 [-0.43191102 -0.01215489]\n",
            "-1.0 [-0.44374493 -0.01183391]\n",
            "-1.0 [-0.45517203 -0.0114271 ]\n",
            "-1.0 [-0.46610874 -0.0109367 ]\n",
            "-1.0 [-0.47647446 -0.01036574]\n",
            "-1.0 [-0.48619246 -0.009718  ]\n",
            "-1.0 [-0.4951904  -0.00899796]\n",
            "-1.0 [-0.50340116 -0.00821076]\n",
            "-1.0 [-0.51076335 -0.00736215]\n",
            "-1.0 [-0.51722175 -0.00645839]\n",
            "-1.0 [-0.52272797 -0.00550622]\n",
            "-1.0 [-0.5272407  -0.00451275]\n",
            "-1.0 [-0.53072613 -0.00348544]\n",
            "-1.0 [-0.5331581  -0.00243198]\n",
            "-1.0 [-0.5345184 -0.0013603]\n",
            "-1.0 [-5.3479683e-01 -2.7841690e-04]\n",
            "-1.0 [-0.5339913   0.00080555]\n",
            "-1.0 [-0.53210783  0.00188348]\n",
            "-1.0 [-0.5291605   0.00294729]\n",
            "-1.0 [-0.5251715   0.00398901]\n",
            "-1.0 [-0.5201707  0.0050008]\n",
            "-1.0 [-0.5141956   0.00597509]\n",
            "-1.0 [-0.507291    0.00690458]\n",
            "-1.0 [-0.4995087   0.00778232]\n",
            "-1.0 [-0.49090692  0.0086018 ]\n",
            "-1.0 [-0.48154992  0.009357  ]\n",
            "-1.0 [-0.47150743  0.01004247]\n",
            "-1.0 [-0.46085405  0.01065338]\n",
            "-1.0 [-0.4496685   0.01118556]\n",
            "-1.0 [-0.43803287  0.01163562]\n",
            "-1.0 [-0.42603198  0.0120009 ]\n",
            "-1.0 [-0.4137524   0.01227956]\n",
            "-1.0 [-0.4012819   0.01247054]\n",
            "-1.0 [-0.38870826  0.01257361]\n",
            "-1.0 [-0.37611896  0.01258932]\n",
            "-1.0 [-0.3636      0.01251896]\n",
            "-1.0 [-0.35123548  0.01236452]\n",
            "-1.0 [-0.33910686  0.01212863]\n",
            "-1.0 [-0.32729232  0.01181452]\n",
            "-1.0 [-0.31586647  0.01142586]\n",
            "-1.0 [-0.3048997   0.01096677]\n",
            "-1.0 [-0.294458   0.0104417]\n",
            "-1.0 [-0.28460267  0.00985533]\n",
            "-1.0 [-0.27539012  0.00921254]\n",
            "-1.0 [-0.2668718  0.0085183]\n",
            "-1.0 [-0.25909418  0.00777764]\n",
            "-1.0 [-0.2520986   0.00699558]\n",
            "-1.0 [-0.24592148  0.00617712]\n",
            "-1.0 [-0.2405943   0.00532719]\n",
            "-1.0 [-0.23614368  0.00445062]\n",
            "-1.0 [-0.23259152  0.00355216]\n",
            "-1.0 [-0.22995505  0.00263647]\n",
            "-1.0 [-0.22824691  0.00170814]\n",
            "-1.0 [-0.22747523  0.00077168]\n",
            "-1.0 [-2.2764365e-01 -1.6842864e-04]\n",
            "-1.0 [-0.22875139 -0.00110774]\n",
            "-1.0 [-0.23079321 -0.00204181]\n",
            "-1.0 [-0.23375933 -0.00296613]\n",
            "-1.0 [-0.23763551 -0.00387618]\n",
            "-1.0 [-0.24240284 -0.00476734]\n",
            "-1.0 [-0.24803776 -0.00563492]\n",
            "-1.0 [-0.2545119  -0.00647414]\n"
          ]
        }
      ]
    },
    {
      "cell_type": "markdown",
      "source": [
        "# 2. Deep Learning"
      ],
      "metadata": {
        "id": "fsyvAxqXzGfz"
      }
    },
    {
      "cell_type": "markdown",
      "source": [
        "PENGERTIAN DEEP LEARNING\n",
        "\n",
        "---\n",
        "\n",
        "\n",
        "Deep learning adalah salah satu bagian dari machine learning yang berfungsi melatih komputer tentang insting dasar manusia. Caranya adalah dengan memanfaatkan algoritma komputer untuk mengelompokkan langsung data yang kompleks dalam bentuk gambar, teks, atau suara.\n",
        "\n",
        "Menariknya, algoritma tersebut mampu mencapai tingkat akurasi SOTA (state of the art), bahkan terkadang bisa melampaui kinerja tenaga manusia. Hal tersebut mungkin terjadi karena mesin AI dilatih dengan kumpulan data berlabel yang dikombinasikan dengan arsitektur neural network."
      ],
      "metadata": {
        "id": "QJR2Ayl0zPYc"
      }
    },
    {
      "cell_type": "markdown",
      "source": [
        "JENIS ALGORITMA DEEP LEARNING\n",
        "\n",
        "---\n",
        "\n",
        "1.   CONVOLUTIONAL NEURAL NETWORKS (CNN)\n",
        "\n",
        "     CNN, atau terkadang disebut sebagai ConvNets, terdiri atas beberapa   lapisan. Biasanya, jenis algoritma deep learning ini digunakan untuk memproses data berupa gambar atau mendeteksi objek.\n",
        "2.   RECURRENT NEURAL NETWORK (RNN)\n",
        "\n",
        "     Jenis algoritma deep learning ini menghasilkan koneksi yang membentuk siklus teratur. Siklus tersebut kemudian memproses output yang berasal dari LTSM untuk dijadikan input pada fase terkini. Hal tersebut bisa terjadi karena RNN memiliki memori internal.\n",
        "\n",
        "3.   LONG SHORT TERM MEMORY NETWORK (LSTM)\n",
        "\n",
        "     LSTM merupakan salah satu jenis RNN yang dapat mempelajari sekaligus mengingat ketergantungan jangka panjang. Hasilnya, algoritma ini mampu mengingat kembali informasi dari waktu lampau.\n",
        "\n",
        "4.   SELF-ORGANIZING MAPS (SOM)\n",
        "\n",
        "     SOM memungkinkan visualisasi data untuk mengurangi dimensi data melalui jaringan neural buatan yang beroperasi mandiri. Algoritma SOM dirancang untuk membantu user memahami informasi berdimensi tinggi.\n"
      ],
      "metadata": {
        "id": "SjfjnVKq2byF"
      }
    },
    {
      "cell_type": "markdown",
      "source": [
        "PENERAPAN DEEP LEARNING\n",
        "\n",
        "---\n",
        "\n",
        "*   VIRTUAL ASSISTANTS\n",
        "*   MOBIL OTOMATIS\n",
        "*   CHATBOTS\n",
        "*   BIOMETRIK PENGENALAN WAJAH\n"
      ],
      "metadata": {
        "id": "5dUAi4wZ30co"
      }
    },
    {
      "cell_type": "code",
      "source": [
        "import tensorflow as tf\n",
        "from tensorflow.keras.models import Sequential\n",
        "from tensorflow.keras.layers import Dense, Dropout, LSTM#, CuDNNLSTM\n",
        "\n",
        "\n",
        "mnist = tf.keras.datasets.mnist  # mnist is a dataset of 28x28 images of handwritten digits and their labels\n",
        "(x_train, y_train),(x_test, y_test) = mnist.load_data()  # unpacks images to x_train/x_test and labels to y_train/y_test\n",
        "\n",
        "x_train = x_train/255.0\n",
        "x_test = x_test/255.0\n",
        "\n",
        "print(x_train.shape)\n",
        "print(x_train[0].shape)\n",
        "\n",
        "model = Sequential()\n",
        "\n",
        "# IF you are running with a GPU, try out the CuDNNLSTM layer type instead (don't pass an activation, tanh is required)\n",
        "model.add(LSTM(128, input_shape=(x_train.shape[1:]), activation='relu', return_sequences=True))\n",
        "model.add(Dropout(0.2))\n",
        "\n",
        "model.add(LSTM(128, activation='relu'))\n",
        "model.add(Dropout(0.1))\n",
        "\n",
        "model.add(Dense(32, activation='relu'))\n",
        "model.add(Dropout(0.2))\n",
        "\n",
        "model.add(Dense(10, activation='softmax'))\n",
        "\n",
        "opt = tf.keras.optimizers.Adam(lr=0.001, decay=1e-6)\n",
        "\n",
        "# Compile model\n",
        "model.compile(\n",
        "    loss='sparse_categorical_crossentropy',\n",
        "    optimizer=opt,\n",
        "    metrics=['accuracy'],\n",
        ")\n",
        "\n",
        "model.fit(x_train,\n",
        "          y_train,\n",
        "          epochs=3,\n",
        "          validation_data=(x_test, y_test))"
      ],
      "metadata": {
        "colab": {
          "base_uri": "https://localhost:8080/"
        },
        "id": "o4aSOvdP5nWC",
        "outputId": "f047a655-4885-4be9-b630-1cda2a4f98dd"
      },
      "execution_count": 15,
      "outputs": [
        {
          "output_type": "stream",
          "name": "stdout",
          "text": [
            "(60000, 28, 28)\n",
            "(28, 28)\n",
            "Epoch 1/3\n",
            "1875/1875 [==============================] - 168s 86ms/step - loss: 0.5915 - accuracy: 0.8116 - val_loss: 0.1377 - val_accuracy: 0.9581\n",
            "Epoch 2/3\n",
            "1875/1875 [==============================] - 160s 85ms/step - loss: 0.1449 - accuracy: 0.9605 - val_loss: 0.0806 - val_accuracy: 0.9763\n",
            "Epoch 3/3\n",
            "1875/1875 [==============================] - 162s 86ms/step - loss: 0.1004 - accuracy: 0.9732 - val_loss: 0.0640 - val_accuracy: 0.9826\n"
          ]
        },
        {
          "output_type": "execute_result",
          "data": {
            "text/plain": [
              "<keras.callbacks.History at 0x7fa2831853d0>"
            ]
          },
          "metadata": {},
          "execution_count": 15
        }
      ]
    }
  ]
}